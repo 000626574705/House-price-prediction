{
  "nbformat": 4,
  "nbformat_minor": 0,
  "metadata": {
    "colab": {
      "provenance": [],
      "authorship_tag": "ABX9TyPeTv6vpDxRHcx9mBGwrub4",
      "include_colab_link": true
    },
    "kernelspec": {
      "name": "python3",
      "display_name": "Python 3"
    },
    "language_info": {
      "name": "python"
    }
  },
  "cells": [
    {
      "cell_type": "markdown",
      "metadata": {
        "id": "view-in-github",
        "colab_type": "text"
      },
      "source": [
        "<a href=\"https://colab.research.google.com/github/000626574705/House-price-prediction/blob/main/loggingdebug.ipynb\" target=\"_parent\"><img src=\"https://colab.research.google.com/assets/colab-badge.svg\" alt=\"Open In Colab\"/></a>"
      ]
    },
    {
      "cell_type": "code",
      "execution_count": 1,
      "metadata": {
        "id": "6qGwldkp-jHT"
      },
      "outputs": [],
      "source": [
        "import logging"
      ]
    },
    {
      "cell_type": "code",
      "source": [
        "logging.basicConfig(filename = \"test.log\",level=logging.INFO)"
      ],
      "metadata": {
        "id": "SHFEeKN2-vMu"
      },
      "execution_count": 2,
      "outputs": []
    },
    {
      "cell_type": "code",
      "source": [
        "logging.info(\"this is my destiny\")"
      ],
      "metadata": {
        "id": "OxgPtj27-6JL"
      },
      "execution_count": 3,
      "outputs": []
    },
    {
      "cell_type": "code",
      "source": [
        "logging.info(\"thid id jknjkkvbkb\")"
      ],
      "metadata": {
        "id": "tEKAxPm9_AXt"
      },
      "execution_count": 4,
      "outputs": []
    },
    {
      "cell_type": "code",
      "source": [
        "logging.warning(\"this is vey danger\")"
      ],
      "metadata": {
        "colab": {
          "base_uri": "https://localhost:8080/"
        },
        "id": "_I8syL-p_FD3",
        "outputId": "1e93dcb7-7543-439a-ff44-9d7791f01836"
      },
      "execution_count": 5,
      "outputs": [
        {
          "output_type": "stream",
          "name": "stderr",
          "text": [
            "WARNING:root:this is vey danger\n"
          ]
        }
      ]
    },
    {
      "cell_type": "code",
      "source": [
        "logging.debug(\"this is my debug\")"
      ],
      "metadata": {
        "id": "cpLbYd0jA4nv"
      },
      "execution_count": 6,
      "outputs": []
    },
    {
      "cell_type": "code",
      "source": [
        "logging.error(\"this is my error\")"
      ],
      "metadata": {
        "colab": {
          "base_uri": "https://localhost:8080/"
        },
        "id": "BhblFinCA9oV",
        "outputId": "8c3ea00a-2a08-47ef-88ae-d949c5502057"
      },
      "execution_count": 7,
      "outputs": [
        {
          "output_type": "stream",
          "name": "stderr",
          "text": [
            "ERROR:root:this is my error\n"
          ]
        }
      ]
    },
    {
      "cell_type": "code",
      "source": [
        "logging.shutdown()"
      ],
      "metadata": {
        "id": "L6sFKjCKCeOB"
      },
      "execution_count": 8,
      "outputs": []
    },
    {
      "cell_type": "code",
      "source": [
        "import logging"
      ],
      "metadata": {
        "id": "RdP44dWTCpcZ"
      },
      "execution_count": 9,
      "outputs": []
    },
    {
      "cell_type": "code",
      "source": [
        "logging.basicConfig(filename = \"tesc.log\",level =logging.DEBUG, format = '%(asctime)s %(message)s)')"
      ],
      "metadata": {
        "id": "x4qvUnAUBEXS"
      },
      "execution_count": 14,
      "outputs": []
    },
    {
      "cell_type": "code",
      "source": [
        "logging.info(\"this is my first file to not to use print use logging\")"
      ],
      "metadata": {
        "id": "V15u8DYOCB_W"
      },
      "execution_count": 15,
      "outputs": []
    },
    {
      "cell_type": "code",
      "source": [
        "logging.debug(\"this is my debug\")"
      ],
      "metadata": {
        "id": "mTl8Fb9pCMB3"
      },
      "execution_count": 16,
      "outputs": []
    },
    {
      "cell_type": "code",
      "source": [
        "logging.error(\"this is my error msg\")"
      ],
      "metadata": {
        "colab": {
          "base_uri": "https://localhost:8080/"
        },
        "id": "ldSCRyliCOiB",
        "outputId": "7a2c1a23-6fa0-465b-adf2-a93039ffcf71"
      },
      "execution_count": 17,
      "outputs": [
        {
          "output_type": "stream",
          "name": "stderr",
          "text": [
            "ERROR:root:this is my error msg\n"
          ]
        }
      ]
    },
    {
      "cell_type": "code",
      "source": [
        "logging.shutdown()"
      ],
      "metadata": {
        "id": "nlUrW4o8CU9t"
      },
      "execution_count": 18,
      "outputs": []
    },
    {
      "cell_type": "code",
      "source": [
        "logging.basicConfig(filename = \"test6.log\",level = logging.DEBUG ,format = '%(asctime)s %(message)s %(name)s')"
      ],
      "metadata": {
        "id": "IVAd3yZhEdRP"
      },
      "execution_count": 20,
      "outputs": []
    },
    {
      "cell_type": "code",
      "source": [
        "l=[1,2,3,4,5,[2,3,4],\"sud\",\"kumar\"]"
      ],
      "metadata": {
        "id": "hS1hmQdnE87o"
      },
      "execution_count": 21,
      "outputs": []
    },
    {
      "cell_type": "code",
      "source": [
        "\n",
        "l1_int =[]\n",
        "l2_str=[]\n",
        "for i in l:\n",
        "  logging.info(\"we are iterating\")\n",
        "  if type(i) == list:\n",
        "    logging.info(\"we are iterating in list in list\")\n",
        "\n",
        "    for j in i:\n",
        "      if type(j)==int:\n",
        "        l1_int.append(j)\n",
        "  elif type(i)==int:\n",
        "    l1_int.append(i)\n",
        "  else:\n",
        "    if type(i) == str:\n",
        "      l2_str.append(i)\n"
      ],
      "metadata": {
        "id": "weaAYhjMFZnH"
      },
      "execution_count": 28,
      "outputs": []
    },
    {
      "cell_type": "code",
      "source": [
        "l1_int"
      ],
      "metadata": {
        "colab": {
          "base_uri": "https://localhost:8080/"
        },
        "id": "G_Zq2Cs3GHqQ",
        "outputId": "ab0b7fe7-2d56-4b05-e204-93b45eecb575"
      },
      "execution_count": 24,
      "outputs": [
        {
          "output_type": "execute_result",
          "data": {
            "text/plain": [
              "[1, 2, 3, 4, 5, 2, 3, 4]"
            ]
          },
          "metadata": {},
          "execution_count": 24
        }
      ]
    },
    {
      "cell_type": "code",
      "source": [
        "l2_str"
      ],
      "metadata": {
        "colab": {
          "base_uri": "https://localhost:8080/"
        },
        "id": "6-uOZpTuGRQ9",
        "outputId": "8a7957d5-a8aa-4719-a01b-444e75d75699"
      },
      "execution_count": 26,
      "outputs": [
        {
          "output_type": "execute_result",
          "data": {
            "text/plain": [
              "['sud', 'kumar']"
            ]
          },
          "metadata": {},
          "execution_count": 26
        }
      ]
    },
    {
      "cell_type": "code",
      "source": [],
      "metadata": {
        "id": "C8qXixHGGS3f"
      },
      "execution_count": null,
      "outputs": []
    }
  ]
}